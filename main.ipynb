{
 "cells": [
  {
   "cell_type": "code",
   "execution_count": 1,
   "metadata": {},
   "outputs": [],
   "source": [
    "import folium"
   ]
  },
  {
   "cell_type": "code",
   "execution_count": 2,
   "metadata": {},
   "outputs": [],
   "source": [
    "m = folium.Map(location=[-22.9068467,  -43.1728965])"
   ]
  },
  {
   "cell_type": "code",
   "execution_count": null,
   "metadata": {},
   "outputs": [],
   "source": [
    "m"
   ]
  },
  {
   "cell_type": "code",
   "execution_count": 4,
   "metadata": {},
   "outputs": [],
   "source": [
    "m = folium.Map(\n",
    "    location=[-22.9068467, -43.1728965],\n",
    "    tiles='OpenStreetMap',\n",
    "    attr='Map data © OpenStreetMap contributors'\n",
    ")\n",
    "\n",
    "\n"
   ]
  },
  {
   "cell_type": "code",
   "execution_count": 5,
   "metadata": {},
   "outputs": [],
   "source": [
    "#folium.Marker(\n",
    "    \n",
    "   # [-22.9117,-43.2303],\n",
    "   # popup= 'Maracanã',\n",
    "   # tooltip= 'Click Aqui',\n",
    "    #  icon=folium.Icon(color='black'),\n",
    "      \n",
    "      \n",
    "    \n",
    "#).add_to(m)"
   ]
  },
  {
   "cell_type": "code",
   "execution_count": null,
   "metadata": {},
   "outputs": [],
   "source": [
    "m.add_child(folium.LatLngPopup())"
   ]
  },
  {
   "cell_type": "markdown",
   "metadata": {},
   "source": [
    "fala gustavo! esse codigo de cima ai foi para ver a long e lat de cada marcacao que fiz dos estadios"
   ]
  },
  {
   "cell_type": "code",
   "execution_count": null,
   "metadata": {},
   "outputs": [],
   "source": [
    "import pandas as pd\n",
    "df = pd.read_excel('estadios_rj.xlsx')\n",
    "print(df)"
   ]
  },
  {
   "cell_type": "code",
   "execution_count": 8,
   "metadata": {},
   "outputs": [],
   "source": [
    "mapa = folium.Map(location=[-22.9068467,  -43.1728965])\n",
    "\n",
    "for local, lat, lon in zip(df.Local, df.Latitude.values, df.Longitude.values):\n",
    "    folium.Marker([lat, lon], tooltip=f\"{local}\").add_to(m)\n",
    "    folium.Circle(\n",
    "        location=[lat, lon],\n",
    "        radius=500,\n",
    "        color='blue',  \n",
    "        fill=True,\n",
    "        fill_color='blue',\n",
    "        fill_opacity=0.2\n",
    "    ).add_to(m)"
   ]
  },
  {
   "cell_type": "code",
   "execution_count": null,
   "metadata": {},
   "outputs": [],
   "source": [
    "m"
   ]
  },
  {
   "cell_type": "code",
   "execution_count": 10,
   "metadata": {},
   "outputs": [],
   "source": [
    "m.save('mapa.html')\n"
   ]
  }
 ],
 "metadata": {
  "kernelspec": {
   "display_name": "Python 3",
   "language": "python",
   "name": "python3"
  },
  "language_info": {
   "codemirror_mode": {
    "name": "ipython",
    "version": 3
   },
   "file_extension": ".py",
   "mimetype": "text/x-python",
   "name": "python",
   "nbconvert_exporter": "python",
   "pygments_lexer": "ipython3",
   "version": "3.12.7"
  }
 },
 "nbformat": 4,
 "nbformat_minor": 2
}
